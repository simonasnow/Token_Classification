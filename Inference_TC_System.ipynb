{
 "cells": [
  {
   "cell_type": "code",
   "execution_count": 1,
   "id": "96ffd842",
   "metadata": {},
   "outputs": [],
   "source": [
    "import os\n",
    "import torch\n",
    "\n",
    "DIR= r'/Token_Classification/'\n",
    "path_file= os.path.join(DIR, 'model_classifier.pth')\n",
    "\n",
    "from transformers import AutoTokenizer\n",
    "bert_model = \"distilbert-base-uncased\"\n",
    "\n",
    "from classes import Model_TC "
   ]
  },
  {
   "cell_type": "code",
   "execution_count": 2,
   "id": "e8ba0146",
   "metadata": {},
   "outputs": [],
   "source": [
    "def inference(input, path_file, bert_model):\n",
    "    labels_list = ['O', 'B-PER', 'I-PER', 'B-ORG', 'I-ORG', 'B-LOC', 'I-LOC', 'B-MISC', 'I-MISC']\n",
    "\n",
    "    tokenizer= AutoTokenizer.from_pretrained(bert_model)\n",
    "    input_ts = tokenizer(input, is_split_into_words=False, return_tensors='pt')\n",
    "    \n",
    "    model = Model_TC.TokenClassifier(bert_model, num_labels=len(labels_list))\n",
    "  \n",
    "    checkpoint = torch.load(path_file)\n",
    "    model.load_state_dict(checkpoint['model_state_dict'])\n",
    "    \n",
    "    model.eval()\n",
    "    output = model(**input_ts)[0].detach()\n",
    "    \n",
    "    prediction = output.argmax(dim=-1).tolist()\n",
    "    \n",
    "    for t, p in zip(input_ts['input_ids'][0].tolist(), prediction):\n",
    "        if p > 0:\n",
    "            w = tokenizer.decode(t)\n",
    "            print(w, labels_list[p])"
   ]
  },
  {
   "cell_type": "code",
   "execution_count": 3,
   "id": "e48b7f6f",
   "metadata": {},
   "outputs": [
    {
     "name": "stdout",
     "output_type": "stream",
     "text": [
      "Enter a sentence:\n",
      " The italian Giorgio Parisi won the Nobel Prize in 2021.\n",
      "italian B-MISC\n",
      "giorgio B-PER\n",
      "paris I-PER\n",
      "##i I-PER\n",
      "nobel B-MISC\n",
      "Enter a sentence:\n",
      " Martina lives in Rome and she is working at Google.\n",
      "martina B-PER\n",
      "rome B-LOC\n",
      "google B-ORG\n",
      "done\n"
     ]
    }
   ],
   "source": [
    "input1 = input('Enter a sentence:\\n ')\n",
    "inference(input1, path_file, bert_model)\n",
    "input2 = input('Enter a sentence:\\n ')\n",
    "inference(input2, path_file, bert_model)\n",
    "print('done')"
   ]
  },
  {
   "cell_type": "code",
   "execution_count": 5,
   "id": "b2e403d1",
   "metadata": {},
   "outputs": [],
   "source": []
  }
 ],
 "metadata": {
  "kernelspec": {
   "display_name": "Python 3.7 (tensorflow)",
   "language": "python",
   "name": "tensorflow"
  },
  "language_info": {
   "codemirror_mode": {
    "name": "ipython",
    "version": 3
   },
   "file_extension": ".py",
   "mimetype": "text/x-python",
   "name": "python",
   "nbconvert_exporter": "python",
   "pygments_lexer": "ipython3",
   "version": "3.7.10"
  }
 },
 "nbformat": 4,
 "nbformat_minor": 5
}
